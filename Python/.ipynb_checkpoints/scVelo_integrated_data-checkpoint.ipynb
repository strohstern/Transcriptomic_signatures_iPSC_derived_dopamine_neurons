{
 "cells": [
  {
   "cell_type": "markdown",
   "metadata": {},
   "source": [
    "# Estimating RNA velocity using scVelo and Seurat"
   ]
  },
  {
   "cell_type": "markdown",
   "metadata": {},
   "source": [
    "Note that this notebook contains the analysis related to point 1 in the following list. Please ignore the code blocks with python code (grey background).\n",
    "\n",
    "This dataset consisting of 3 independent biological replicates provides an opportunity to test different approaches in scVelo:\n",
    "\n",
    "1. RNA velocity estimation using the integrated datasets\n",
    "    a. assuming one consistent splicing kinetic across all cell types\n",
    "    b evaluating if different splicing kinetics exist in different cell types (or in different biological replicates which could highlight batch effects impacting the RNA velocity estimations)\n",
    "2. RNA velocity estimations for each individual dataset\n",
    "    * if no batch effects exists the results from the individual analysis and the integrated RNA velocity estimation should agree with each other \n",
    "3. Testing the batch effect removal procedure mentioned in [this blog](https://www.hansenlab.org/velocity_batch):\n",
    "    * if batch effects exist this procedure should result in developmental streams that clarify, if batch effects do not impact the RNA velocity estimations this procedure should not change the resulting RNA velocity estimates"
   ]
  },
  {
   "cell_type": "markdown",
   "metadata": {},
   "source": [
    "For the scVelo analysis approach we follow the [manual](https://scvelo.readthedocs.io/).\n",
    "\n",
    "The key input into the RNA velocity analysis are two count matrices: one with pre-mature (unspliced) and one with mature (spliced) abundances. In this case these counts were obtained using the Alevin counting approach described [here](https://combine-lab.github.io/alevin-tutorial/2020/alevin-velocity/).\n",
    "We chose alevin for counting as it was described in this [pre-print](https://www.biorxiv.org/content/10.1101/2020.03.13.990069v1.full).\n",
    "\n",
    "We added the spliced and unspliced abundances estimated with Alevin to the pre-existing integrated Seurat object (which uses the CellRanger identified counts) ensuring that the identified cells and genes were detected in both datasets. We harmonized the gene identifiers used in both approaches by translating the ensembl gene ids used by Alevin into symbols used by CellRanger.\n",
    "\n",
    "Therefore the input anndata object therefore contains:\n",
    "\n",
    "1. data matrix `adata.X` contains the CellRanger identified counts (RNA assay information from the integrated Seurat object)\n",
    "2. `adata.layers` contains the spliced and unspliced counts obtained from Alevin\n",
    "3. `adata.obs` contains cell (observation) annotations\n",
    "4. `adata.var` contains genes (variables) annotations\n",
    "5. `adata.uns` contains unstructured annotations such as graphs\n",
    "\n"
   ]
  },
  {
   "cell_type": "code",
   "execution_count": null,
   "metadata": {},
   "outputs": [],
   "source": [
    "import scvelo as scv\n",
    "import pandas as pd"
   ]
  },
  {
   "cell_type": "code",
   "execution_count": null,
   "metadata": {},
   "outputs": [],
   "source": [
    "# For beautified visualisations\n",
    "scv.set_figure_params()"
   ]
  },
  {
   "cell_type": "code",
   "execution_count": null,
   "metadata": {},
   "outputs": [],
   "source": [
    "# scVelo version used\n",
    "scv.logging.print_version()"
   ]
  },
  {
   "cell_type": "markdown",
   "metadata": {},
   "source": [
    "The adata object fir this dataset looks as follows:"
   ]
  },
  {
   "cell_type": "code",
   "execution_count": null,
   "metadata": {},
   "outputs": [],
   "source": [
    "adata = scv.read(\"./output/3-3.RNA_velocity_integration_with_Seurat/Seurat_integrated_for_scVelo.h5ad\")\n",
    "adata"
   ]
  },
  {
   "cell_type": "markdown",
   "metadata": {},
   "source": [
    "The following cell annotations are present from the previous analysis in Seurat"
   ]
  },
  {
   "cell_type": "code",
   "execution_count": null,
   "metadata": {},
   "outputs": [],
   "source": [
    "adata.obs"
   ]
  },
  {
   "cell_type": "code",
   "execution_count": null,
   "metadata": {},
   "outputs": [],
   "source": []
  },
  {
   "cell_type": "code",
   "execution_count": null,
   "metadata": {},
   "outputs": [],
   "source": [
    "adata.obs.cell_states_0_4 = adata.obs.cell_states_0_4.astype(\"category\")\n"
   ]
  },
  {
   "cell_type": "code",
   "execution_count": null,
   "metadata": {},
   "outputs": [],
   "source": [
    "adata.obs.cell_states_0_4"
   ]
  },
  {
   "cell_type": "markdown",
   "metadata": {},
   "source": [
    "The typical workflow in scVelo consists of subsequent calls of \n",
    "\n",
    "1. preprocessing tools (scv.pp.*)\n",
    "2. analysis tools (scv.tl.*) \n",
    "3. plotting (scv.pl.*)."
   ]
  },
  {
   "cell_type": "markdown",
   "metadata": {},
   "source": [
    "Below the proportions of spliced and unspliced counts are displayed. According to the [scVelo manual](https://scvelo.readthedocs.io/VelocityBasics.html), typically between, 10%-25% of an unspliced proportion is detectable depending on the underlying used protocol."
   ]
  },
  {
   "cell_type": "code",
   "execution_count": null,
   "metadata": {},
   "outputs": [],
   "source": [
    "scv.pl.proportions(adata, groupby = \"cell_states_0_4\")"
   ]
  },
  {
   "cell_type": "markdown",
   "metadata": {},
   "source": [
    "Overall the unspliced proportion in these samples is quite high with 36%. In the majority of identified cell states the proportion of unspliced reads is between 28% (unknown cell state) and 40%. One cell state, NPCs3, has with 68% an unusually high proportion of unspliced reads.\n",
    "\n",
    "While cells of the nervous sytem are known to make extensive use of alternative splicing and alternative 3'UTRs, the proportion of unspliced reads is still surprisingly high."
   ]
  },
  {
   "cell_type": "markdown",
   "metadata": {},
   "source": [
    "# Basic Pre-processing\n",
    "\n",
    "Basic pre-processing consists of gene selection and normalistion, followed by the calculation of first and second order moments (means and uncentered variances).\n",
    "\n",
    "* gene selection by detection with a minimum number of counts and high variability (dispersion)\n",
    "* normalising every cell by its total size and logarithmizing X\n",
    "    * filtering and normalization is applied in the same vein to spliced/unspliced counts and X\n",
    "    * logarithmizing is only applied to X\n",
    "        * If X is already preprocessed from former analysis, it will not be touched"
   ]
  },
  {
   "cell_type": "code",
   "execution_count": null,
   "metadata": {},
   "outputs": [],
   "source": [
    "scv.pp.filter_and_normalize(adata, min_shared_counts=20, n_top_genes=2000, enforce=True)"
   ]
  },
  {
   "cell_type": "markdown",
   "metadata": {},
   "source": [
    "Require the first and second order moments (means and uncentred variances) among nearest neighbours in PCA space.\n",
    "\n",
    "* first order is needed for deterministic velocity estimation \n",
    "* stochastic estimation also requires second order momnets"
   ]
  },
  {
   "cell_type": "code",
   "execution_count": null,
   "metadata": {},
   "outputs": [],
   "source": [
    "scv.pp.moments(adata, n_pcs=30, n_neighbors=30)"
   ]
  },
  {
   "cell_type": "markdown",
   "metadata": {},
   "source": [
    "Note: further preprocessing such as batch effect correction may be used."
   ]
  },
  {
   "cell_type": "code",
   "execution_count": null,
   "metadata": {},
   "outputs": [],
   "source": []
  },
  {
   "cell_type": "markdown",
   "metadata": {},
   "source": [
    "# Estimate RNA velocity"
   ]
  },
  {
   "cell_type": "markdown",
   "metadata": {},
   "source": [
    "Velocities are vectors in gene expression space, obtained by solving a stochastic model of transcriptional dynamics. Other available modes (models) are:\n",
    "\n",
    "* determinisitic:\n",
    "    * using steady-state residuals\n",
    "    * originally proposed by [La Manno et al. 2018](https://www.nature.com/articles/s41586-018-0414-6)\n",
    "    * central assumption: common splicing rate across genes and full splicing dynamics with steady-state mRNA levels are observable\n",
    "    * under the assumption that transcriptional phases (induction and repression) last sufficiently long to reach a steady-state equilibrium (active and inactive), velocities are quantified as the deviation of the observed ratio from its steady state ratio\n",
    "        * equilibrium mRNA levels are approximated with a linear regression on the presumed steady states in the lower and upper quantiles\n",
    "* stochastic:\n",
    "    * aim: better capture the steady states\n",
    "    * treating transcription, splicing and degradation as probabilistic events\n",
    "* dynamical:\n",
    "    * solving the full transcriptional dynamics of splicing kinetics using a likelihood-based dynamical model\n",
    "    * infer gene-specific rates of transcription, splicing and degradation\n",
    "    * recovers latent time of the underlying cellular processes\n",
    "    * most powerful while computationally most expensive\n",
    "    * aims to learn the unspliced/spliced phase trajectory\n",
    "        * four transcriptional states are modeled to account for all possible configurations of gene activity\n",
    "            * two dynamic transient states (induction and repression)\n",
    "            * two steady states (active and inactive) reached after each dynamic transition\n",
    "    * note that it still maintains the following assumptions:\n",
    "        * constant gene-specific splicing and degradation rates \n",
    "        * two transcription rates each for induction and repression\n",
    "            \n",
    "    \n",
    "\n",
    "Note that running the dynamical model requires prior running of `scv.tl.recover_dynamics(adata, **params)`.\n",
    "The velocities are stored in `adata.layers` just as the count matrices."
   ]
  },
  {
   "cell_type": "markdown",
   "metadata": {},
   "source": [
    "In the following we use the generalized dynamical model to learn the full transcriptional dynamics of splicing kinetics.\n",
    "It aims to learn the spliced/unspliced phase trajectory for each gene. It uses a likelihood-based expectation-mximisation framework to iteratively estimate the parameters of reaction rates and latent cell-specifc variables (e.g. transcriptional state and cell-internal latent time)."
   ]
  },
  {
   "cell_type": "code",
   "execution_count": null,
   "metadata": {},
   "outputs": [],
   "source": [
    "# efficient and robust estimation of velocities\n",
    "scv.tl.recover_dynamics(adata) # required for dynamical mode\n",
    "scv.tl.velocity(adata, mode=\"dynamical\")"
   ]
  },
  {
   "cell_type": "markdown",
   "metadata": {},
   "source": [
    "The velocities are projected into a lower-dimensional embedding (e.g. PCA or UMAP) by translating them into likely cell transitions.\n",
    "\n",
    "The probabilities of one cell transitioning into another cell are computed using cosine correlation (between the potential cell transition and the velocity vector) and are stored in a matrix denoted as `velocity graph`."
   ]
  },
  {
   "cell_type": "code",
   "execution_count": null,
   "metadata": {},
   "outputs": [],
   "source": [
    "scv.tl.velocity_graph(adata)"
   ]
  },
  {
   "cell_type": "code",
   "execution_count": null,
   "metadata": {},
   "outputs": [],
   "source": [
    "# This is required to solve the write issue with the h5ad below\\n\",\n",
    "adata.__dict__['_raw'].__dict__['_var'] = adata.__dict__['_raw'].__dict__['_var'].rename(columns={'_index': 'features'})"
   ]
  },
  {
   "cell_type": "code",
   "execution_count": null,
   "metadata": {},
   "outputs": [],
   "source": [
    "# store results for reuse\n",
    "adata.write(\"./output/3-5.RNA_velocity_scVelo_python/adata_dynamical_integrated.h5ad\", compression=\"gzip\")"
   ]
  },
  {
   "cell_type": "code",
   "execution_count": null,
   "metadata": {},
   "outputs": [],
   "source": [
    "cell_states = [\"NPCs4\", \"mDA1\", \"mDA2\", \"mDA8\", \"mDA7\", \"NPCs1\", \"NPCs5\", \"mDA3\", \"N/A\", \n",
    "               \"mDA4\", \"mDA5\", \"NPCs2\", \"mDA6\", \"NPCs3\"] \n",
    "cell_states_colours = [\"#FFDC00\", \"#0000FF\", \"#4646FF\", \"#2D2D78\", \"#64FFFF\", \"#FF8200\",\n",
    "           \"#FFB400\", \"#0078FF\", \"#B1B1B1\", \"#0096C8\", \"#64C8FF\", \"#FF5000\", \"#32DCFF\", \"#FF1E00\" ]\n",
    "cell_states_color_map = dict(zip(cell_states, cell_states_colours))\n",
    "cell_states_color_map"
   ]
  },
  {
   "cell_type": "markdown",
   "metadata": {},
   "source": [
    "# Visualisations\n",
    "\n",
    "The velocities can be projected and visualised in any embedding.\n",
    "\n",
    "In the first instance we plot the velocities at the single cell level, as grid lines and as stream lines using the PCA embedding:"
   ]
  },
  {
   "cell_type": "code",
   "execution_count": null,
   "metadata": {},
   "outputs": [],
   "source": [
    "scv.pl.velocity_embedding(adata, basis=\"pca\", arrow_length=3, arrow_size=2, dpi=120, legend_loc='right margin', \n",
    "                          color=\"cell_states_0_4\", palette=cell_states_color_map, \n",
    "                          title=\"Single Cell Velocities in PCA space\")"
   ]
  },
  {
   "cell_type": "code",
   "execution_count": null,
   "metadata": {},
   "outputs": [],
   "source": [
    "scv.pl.velocity_embedding_grid(adata, basis='pca', color=\"cell_states_0_4\", \n",
    "                               legend_loc='right margin', palette=cell_states_color_map)"
   ]
  },
  {
   "cell_type": "code",
   "execution_count": null,
   "metadata": {},
   "outputs": [],
   "source": [
    "scv.pl.velocity_embedding_stream(adata, basis=\"pca\", color=\"cell_states_0_4\", palette=cell_states_color_map,\n",
    "                                 legend_loc='right margin',\n",
    "                                 save=\"6-5.RNA_velocity_scVelo_python/dynamical_integrated_pca_stream.png\")"
   ]
  },
  {
   "cell_type": "markdown",
   "metadata": {},
   "source": [
    "The first two PCAs seem to visualise the progression from more immature precurser cells (NPCs, yellow-red colours) towards more mature dopaminergic neurons (blue colours). This is the expected direction of development within this experiment.\n",
    "\n",
    "We can also visualise the RNA velocities using the UMAP embeddings:"
   ]
  },
  {
   "cell_type": "code",
   "execution_count": null,
   "metadata": {},
   "outputs": [],
   "source": [
    "scv.pl.velocity_embedding_stream(adata, basis=\"umap\", color=\"cell_states_0_4\", legend_loc='right margin', \n",
    "                                 save=\"6-5.RNA_velocity_scVelo_python/dynamical_integrated_umap_cell_states_stream.png\", \n",
    "                                 palette=cell_states_color_map,\n",
    "                                title=\"Velocity stream in UMAP space\")"
   ]
  },
  {
   "cell_type": "markdown",
   "metadata": {},
   "source": [
    "Using the UMAP embedding a more detailed picture seems to emerge:\n",
    "mDA4 neurons seem to emerge predominantly from FB NPCs, while mDA7 neurons seem to potentially stem from NPCs4 and NPCs2 via mDA2 neurons, but also from mDA1 neurons.The latter (mDA1 neurons) also seem to be precursors of mDA8 neurons and their progeny mDA5 neurons.\n",
    "\n",
    "To ensure that the observed RNA velocities do not overlap with cells stemming from just one of the integrated samples, we visualised the different samples:"
   ]
  },
  {
   "cell_type": "code",
   "execution_count": null,
   "metadata": {},
   "outputs": [],
   "source": [
    "scv.pl.velocity_embedding_stream(adata, basis=\"umap\", color=\"orig_ident\", \n",
    "                                 legend_loc='right margin', \n",
    "                                 save=\"6-5.RNA_velocity_scVelo_python/dynamical_integrated_umap_orig_ident_stream.png\")"
   ]
  },
  {
   "cell_type": "markdown",
   "metadata": {},
   "source": [
    "Finally we visualised the expression of some known marker genes (using the \"RNA\" layer, i.e. default `adata.X`).\n",
    "Using the neural precursor markers SPRY1, FOXA1, SHH and PAX6 and for mature neurons GRIA1."
   ]
  },
  {
   "cell_type": "code",
   "execution_count": null,
   "metadata": {},
   "outputs": [],
   "source": [
    "scv.pl.velocity_embedding_stream(adata, basis=\"umap\", color=\"SPRY1\", legend_loc='right margin',\n",
    "                                 use_raw=False, color_map = \"Reds\")"
   ]
  },
  {
   "cell_type": "code",
   "execution_count": null,
   "metadata": {},
   "outputs": [],
   "source": [
    "scv.pl.velocity_embedding_stream(adata, basis=\"umap\", color=\"FOXA1\", legend_loc='right margin', \n",
    "                                 use_raw=False, color_map = \"Reds\")"
   ]
  },
  {
   "cell_type": "code",
   "execution_count": null,
   "metadata": {},
   "outputs": [],
   "source": [
    "scv.pl.velocity_embedding_stream(adata, basis=\"umap\", color=\"SHH\", legend_loc='right margin',\n",
    "                                 use_raw=False, color_map = \"Reds\")"
   ]
  },
  {
   "cell_type": "code",
   "execution_count": null,
   "metadata": {},
   "outputs": [],
   "source": [
    "scv.pl.velocity_embedding_stream(adata, basis=\"umap\", color=\"PAX6\", legend_loc='right margin', \n",
    "                                 use_raw=False, color_map = \"Reds\")"
   ]
  },
  {
   "cell_type": "code",
   "execution_count": null,
   "metadata": {},
   "outputs": [],
   "source": [
    "scv.pl.velocity_embedding_stream(adata, basis=\"umap\", color=\"GRIA1\", legend_loc='right margin',\n",
    "                                 use_raw=False, color_map = \"Reds\")"
   ]
  },
  {
   "cell_type": "markdown",
   "metadata": {},
   "source": [
    "While SPRY1 (RM NPCs), FOXA1 (NPCs2), and SHH (NPCs3) are predominantly found in neural precursors, PAX6 (mDA5) and GRIA1 (mDA1, mDA5, mDA7, FB/mDA) are predominantly found in more mature dopaminergic neurons."
   ]
  },
  {
   "cell_type": "code",
   "execution_count": null,
   "metadata": {},
   "outputs": [],
   "source": []
  },
  {
   "cell_type": "markdown",
   "metadata": {},
   "source": [
    "# Interpret Velocities\n",
    "\n",
    "Examine individual gene dynamis via phase portraits to understand how inferred directions are supported by particular genes."
   ]
  },
  {
   "cell_type": "markdown",
   "metadata": {},
   "source": [
    "In the phase portraits, the black line corresponds to the estimated \"steady-state\" ratio, i.e. the ratio of unspliced to spliced mRNA abundance which is in a constant transcriptional state."
   ]
  },
  {
   "cell_type": "markdown",
   "metadata": {},
   "source": [
    "RNA velocity for a particular gene is determined as the residual, i.e. how much an observation deviates from that steady-state line."
   ]
  },
  {
   "cell_type": "code",
   "execution_count": null,
   "metadata": {},
   "outputs": [],
   "source": [
    "scv.pl.velocity(adata, ['FOXA1',  'GRIA1', 'PAX6', 'SPRY1'], ncols=1, basis=\"umap\")"
   ]
  },
  {
   "cell_type": "markdown",
   "metadata": {},
   "source": [
    "No velocity information is available for the mature neuronal marker GRIA1, the other known marker genes show the expected egg-shaped curves expected for the RNA velocity estimation"
   ]
  },
  {
   "cell_type": "code",
   "execution_count": null,
   "metadata": {},
   "outputs": [],
   "source": [
    "scv.pl.scatter(adata, 'PAX6', color=['cell_states_0_4', 'velocity'], palette=cell_states_color_map,\n",
    "                                 legend_loc='right margin', wspace=0.5)"
   ]
  },
  {
   "cell_type": "markdown",
   "metadata": {},
   "source": [
    "Systematic identification of genes that may help explain the resulting vector field and inferred lineages. For this, we test which genes have cluster-specific differential velocity expression (being significantly higher/lower compared to the remaining population).\n",
    "`scv.tl.rank_velocity_genes` runs a differential expression test (Welch t-test with overestimated variance to be conservative) on velocity expression to find genes in a cluster that show dynamics that is transcriptionally regulated differently compared to all other clusters (e.g. induction in that clustr and homeostasis in the remaining population). \n",
    "It may be worth considering to filter based on `min_likelihood` in assition to `min_corr`? Note that the top 100 genes are shown for each cluster."
   ]
  },
  {
   "cell_type": "code",
   "execution_count": null,
   "metadata": {},
   "outputs": [],
   "source": [
    "scv.tl.rank_velocity_genes(adata, groupby='cell_states_0_4', min_corr=.3)\n",
    "\n",
    "df_diff_velo = scv.DataFrame(adata.uns['rank_velocity_genes']['names'])\n",
    "df_diff_velo.head()"
   ]
  },
  {
   "cell_type": "code",
   "execution_count": null,
   "metadata": {},
   "outputs": [],
   "source": [
    "scv.pl.scatter(adata, 'SHC2', color=['cell_states_0_4', 'velocity'], palette=cell_states_color_map,\n",
    "                                 legend_loc='right margin', wspace=0.5)"
   ]
  },
  {
   "cell_type": "markdown",
   "metadata": {},
   "source": [
    "Below we show the top three ranked differential velocity genes for each identified cell state."
   ]
  },
  {
   "cell_type": "code",
   "execution_count": null,
   "metadata": {},
   "outputs": [],
   "source": [
    "for cell_state in adata.obs.cell_states_0_4.cat.categories:\n",
    "   scv.pl.scatter(adata, df_diff_velo[cell_state][:3], ylabel=cell_state, color=[\"cell_states_0_4\"], \n",
    "                  palette=cell_states_color_map,\n",
    "                                 legend_loc='right margin',\n",
    "                  frameon=False, size=10, linewidth=1.5)"
   ]
  },
  {
   "cell_type": "markdown",
   "metadata": {},
   "source": [
    "The excel file `scVelo_differential_velocity_top100_corr0.3.xlsx` contains the top 100 velocity genes with a minimum correlation of 0.3."
   ]
  },
  {
   "cell_type": "code",
   "execution_count": null,
   "metadata": {},
   "outputs": [],
   "source": [
    "df_diff_velo.to_excel(\"./output/3-5.RNA_velocity_scVelo_python/scVelo_differential_velocity_top100_corr0.3.xlsx\")"
   ]
  },
  {
   "cell_type": "markdown",
   "metadata": {},
   "source": [
    "# Velocities in cycling progenitors\n",
    "\n"
   ]
  },
  {
   "cell_type": "markdown",
   "metadata": {},
   "source": [
    "Cell cycle detected by RNA velocity (circles in the velocity stream plot), can be confirmed by visualising the cell cycle scores (calculated in Seurat).\n",
    "Note that cell cycle score was regressed out in this particular dataset."
   ]
  },
  {
   "cell_type": "code",
   "execution_count": null,
   "metadata": {},
   "outputs": [],
   "source": [
    "#scv.pl.velocity_embedding_stream(adata, basis=\"umap\", color=\"Phase\", legend_loc='right margin')"
   ]
  },
  {
   "cell_type": "code",
   "execution_count": null,
   "metadata": {},
   "outputs": [],
   "source": [
    "scv.pl.scatter(adata, color_gradients=['S_Score', 'G2M_Score'], smooth=True, perc=[5, 95])"
   ]
  },
  {
   "cell_type": "markdown",
   "metadata": {},
   "source": [
    "We may screen through S and G2M phase markers. The `scv.tl.rank_velocity_genes` module calculated Spearman correlation scores, which can be used to rank/sort the cell cycle phase marker genes to subsequently show their phase portraits."
   ]
  },
  {
   "cell_type": "code",
   "execution_count": null,
   "metadata": {},
   "outputs": [],
   "source": [
    "s_genes, g2m_genes = scv.utils.get_phase_marker_genes(adata)"
   ]
  },
  {
   "cell_type": "code",
   "execution_count": null,
   "metadata": {},
   "outputs": [],
   "source": [
    "s_genes = scv.get_df(adata[:, s_genes], 'spearmans_score', sort_values=True).index\n",
    "g2m_genes = scv.get_df(adata[:, g2m_genes], 'spearmans_score', sort_values=True).index\n"
   ]
  },
  {
   "cell_type": "code",
   "execution_count": null,
   "metadata": {},
   "outputs": [],
   "source": [
    "kwargs = dict(frameon=False, ylabel='cell cycle genes', color=\"Phase\")\n",
    "scv.pl.scatter(adata, list(s_genes[:2]) + list(g2m_genes[:3]), **kwargs)"
   ]
  },
  {
   "cell_type": "code",
   "execution_count": null,
   "metadata": {},
   "outputs": [],
   "source": [
    "scv.pl.velocity(adata, ['HELLS', 'BRIP1', 'NEK2'], ncols=1, add_outline=True, color=\"Phase\")"
   ]
  },
  {
   "cell_type": "markdown",
   "metadata": {},
   "source": [
    "# Speed and coherence\n",
    "\n",
    "The speed or rate of differentiation is given by the length of the velocity vector.\n",
    "In addition the coherence of the vector field (i.e. how a velocity vector correlates with its neighboring velocities) provides a measure of confidence."
   ]
  },
  {
   "cell_type": "code",
   "execution_count": null,
   "metadata": {},
   "outputs": [],
   "source": [
    "scv.tl.velocity_confidence(adata)\n",
    "keys = 'velocity_length', 'velocity_confidence'\n",
    "scv.pl.scatter(adata, c=keys, cmap='coolwarm', perc=[5, 95])"
   ]
  },
  {
   "cell_type": "markdown",
   "metadata": {},
   "source": [
    "We can use velocity length to gain insights into where cells differentiate at a faster (slower) pace, e.g. areas associated with neural precursors seem to be associated with a faster differntiation pace (especially NPCs1 and NPCs5). Furthermore, low velocity confidence indicates regions in which the direction is undetermined.\n",
    "\n",
    "On a cluster level we can observe that differentiation speed is particulaly fast in neural precursors (NPCs1 and NPCs3), while more mature midbrain neural cell states slow down considerably. Interestingly, NPCs2, similarly to the more mature cell states, show shorter velocity length (Could this hint to the fact that these are quiescent neural precursor cells?)"
   ]
  },
  {
   "cell_type": "code",
   "execution_count": null,
   "metadata": {},
   "outputs": [],
   "source": [
    "df = adata.obs.groupby('cell_states_0_4')[keys].mean().T\n",
    "df.style.background_gradient(cmap='coolwarm', axis=1)"
   ]
  },
  {
   "cell_type": "markdown",
   "metadata": {},
   "source": [
    "# Velocity graph and pseudotime\n",
    "\n",
    "We can visualise the velocity graph to portray all velocity-inferred cell-to-cell connections/transitions. (Confining it to high-probability transitions by setting a `threshold`)."
   ]
  },
  {
   "cell_type": "code",
   "execution_count": null,
   "metadata": {},
   "outputs": [],
   "source": [
    "scv.pl.velocity_graph(adata, threshold=.1, basis=\"umap\", color=\"cell_states_0_4\", palette=cell_states_color_map,\n",
    "                                 legend_loc='right margin', title=\"Velocity-inferred cell-to-cell transitions\")"
   ]
  },
  {
   "cell_type": "markdown",
   "metadata": {},
   "source": [
    "The graph can be used to draw descendents/ancestors coming from a specified cell. \n",
    "\n",
    "Here a NPCs1 cell is traced to its potential fate."
   ]
  },
  {
   "cell_type": "code",
   "execution_count": null,
   "metadata": {},
   "outputs": [],
   "source": [
    "#adata.obs.index.get_loc(adata.obs[adata.obs.cell_states_0_4 == \"NPCs1\"].index[10])"
   ]
  },
  {
   "cell_type": "code",
   "execution_count": null,
   "metadata": {},
   "outputs": [],
   "source": [
    "x, y = scv.utils.get_cell_transitions(adata, basis='umap', starting_cell=62)\n",
    "ax = scv.pl.velocity_graph(adata, c='lightgrey', edge_width=.05, show=False, threshold=.1)\n",
    "ax = scv.pl.scatter(adata, x=x, y=y, s=120, c='ascending', cmap='gnuplot', ax=ax)"
   ]
  },
  {
   "cell_type": "markdown",
   "metadata": {},
   "source": [
    "Here a NPCs4 is traced to its potential fate."
   ]
  },
  {
   "cell_type": "code",
   "execution_count": null,
   "metadata": {},
   "outputs": [],
   "source": [
    "#adata.obs.index.get_loc(adata.obs[adata.obs.cell_states_0_4 == \"NPCs4\"].index[22])"
   ]
  },
  {
   "cell_type": "code",
   "execution_count": null,
   "metadata": {},
   "outputs": [],
   "source": [
    "x, y = scv.utils.get_cell_transitions(adata, basis='umap', starting_cell=216)\n",
    "ax = scv.pl.velocity_graph(adata, c='lightgrey', edge_width=.05, show=False, threshold=.1)\n",
    "ax = scv.pl.scatter(adata, x=x, y=y, s=120, c='ascending', cmap='gnuplot', ax=ax)"
   ]
  },
  {
   "cell_type": "markdown",
   "metadata": {},
   "source": [
    "Based on the velocity graph, a velocity pseudotime can be computed. After inferring a distribution over root cells from the graph, it measures the average number of stpes it takes to reach a cell after walking along the graph starting from the root cells.\n",
    "\n",
    "It implicitly infers the root cells (in contrast to diffusion pseudotime) and is based on the directed velocity graph (rather than similarity-based diffusion kernel). "
   ]
  },
  {
   "cell_type": "code",
   "execution_count": null,
   "metadata": {},
   "outputs": [],
   "source": [
    "scv.tl.velocity_pseudotime(adata)\n",
    "scv.pl.scatter(adata, color='velocity_pseudotime', cmap='gnuplot', title=\"Velocity-inferred Pseudotime\")"
   ]
  },
  {
   "cell_type": "markdown",
   "metadata": {},
   "source": [
    "# Kinetic rate parameters\n",
    "\n",
    "The rates of RNA transcription, splicing and degradation are estimated (in the dynamical model) without the need of any experimental data. They can be used to better understand the cell identity and phenotypic heterogeneity."
   ]
  },
  {
   "cell_type": "code",
   "execution_count": null,
   "metadata": {},
   "outputs": [],
   "source": [
    "df = adata.var\n",
    "df = df[(df['fit_likelihood'] > .1) & df['velocity_genes'] == True]\n",
    "\n",
    "kwargs = dict(xscale='log', fontsize=16)\n",
    "with scv.GridSpec(ncols=3) as pl:\n",
    "    pl.hist(df['fit_alpha'], xlabel='transcription rate', **kwargs)\n",
    "    pl.hist(df['fit_beta'] * df['fit_scaling'], xlabel='splicing rate', xticks=[.1, .4, 1], **kwargs)\n",
    "    pl.hist(df['fit_gamma'], xlabel='degradation rate', xticks=[.1, .4, 1], **kwargs)\n",
    "\n",
    "scv.get_df(adata, 'fit*', dropna=True).head()\n",
    "\n"
   ]
  },
  {
   "cell_type": "markdown",
   "metadata": {},
   "source": [
    "The estimated gene-specific parameters:\n",
    "\n",
    "* rates of\n",
    "    * transcription (`fit_alpha`)\n",
    "    * splicing (`fit_beta`)\n",
    "    * degradation (`fit_gamma`)\n",
    "* switchig time point (`fit_t_`)\n",
    "* a scaling parameter to adjust for underrepresented unspliced reads (`fit_scaling`)\n",
    "* standard deviation of unspliced and spliced reads (`fit_std_u`, `fit_std_s`)\n",
    "* gene likelihood (`fit_likelihood`)\n",
    "* inferred steady-state levels (`fit_steady_u`, `fit_steady_s`) with their corresponding p-values (`fit_pval_steady_u`, `fit_pval_steady_s`)\n",
    "* overall model variance (`fit_variance`)\n",
    "* scaling factor to align the gene-wse latent times to a universal, gene-shared latent time (`fit_alignment_scaling`)\n"
   ]
  },
  {
   "cell_type": "markdown",
   "metadata": {},
   "source": [
    "# Latent time\n",
    "\n",
    "The dynamical model recovers the latent time of the underlying cellular processes. This latent time represents the cell's internal clock and approximates the real time experienced by cells as they differentiate (based only on the transcriptional dynamics)."
   ]
  },
  {
   "cell_type": "code",
   "execution_count": null,
   "metadata": {},
   "outputs": [],
   "source": [
    "scv.tl.latent_time(adata)\n",
    "scv.pl.scatter(adata, color='latent_time', color_map='gnuplot',  title=\"Velocity inferred Latent Time\")"
   ]
  },
  {
   "cell_type": "code",
   "execution_count": null,
   "metadata": {},
   "outputs": [],
   "source": [
    "top_genes = adata.var[\"fit_likelihood\"].sort_values(ascending=False).index[:300]\n",
    "scv.pl.heatmap(adata, var_names=top_genes, sortby=\"latent_time\", col_color=\"cell_states_0_4\", \n",
    "               n_convolve=100, palette=cell_states_color_map, save=\"6-5.RNA_velocity_scVelo_python/heatmap_top300_driver_genes.png\")"
   ]
  },
  {
   "cell_type": "code",
   "execution_count": null,
   "metadata": {},
   "outputs": [],
   "source": [
    "scv.pl.heatmap(adata, var_names=[\"FOXA1\", \"LMX1A\", \"CORIN\", \"OTX2\", \"DAAM1\", \"STMN2\", \"NRXN1\", \"DCX\", \"MAPT\", \"GAP43\", \"SYT1\"],\n",
    "               sortby=\"latent_time\", col_color=\"cell_states_0_4\", \n",
    "               n_convolve=100, palette=cell_states_color_map,\n",
    "               save=\"6-5.RNA_velocity_scVelo_python/heatmap_driver_genes_of_interest.png\")"
   ]
  },
  {
   "cell_type": "code",
   "execution_count": null,
   "metadata": {},
   "outputs": [],
   "source": [
    "#pl.hist(df['fit_likelihood'], yscale='log')"
   ]
  },
  {
   "cell_type": "markdown",
   "metadata": {},
   "source": [
    "The heatmap shows the top 300 genes (based on `fit_likelihood`) and sorted according to their inferred latent time. "
   ]
  },
  {
   "cell_type": "markdown",
   "metadata": {},
   "source": [
    "# Top-likelihood genes\n",
    "\n",
    "Driver genes display pronounced dynamic behaviour and are systematically detected via their characterization by high likelihoods in the dynamic model."
   ]
  },
  {
   "cell_type": "code",
   "execution_count": null,
   "metadata": {},
   "outputs": [],
   "source": [
    "top_genes = adata.var['fit_likelihood'].sort_values(ascending=False).index\n",
    "scv.pl.scatter(adata, basis=top_genes[:12], ncols=4, frameon=False, color=\"cell_states_0_4\", \n",
    "               palette=cell_states_color_map)"
   ]
  },
  {
   "cell_type": "code",
   "execution_count": null,
   "metadata": {},
   "outputs": [],
   "source": [
    "var_names = ['QKI', 'GAP43', 'ELAVL4']\n",
    "scv.pl.scatter(adata, var_names, frameon=False, color=\"cell_states_0_4\", palette=cell_states_color_map, ncols = 3)\n",
    "scv.pl.scatter(adata, x='latent_time', y=var_names, frameon=True, color=\"cell_states_0_4\", layer=\"RNA\")"
   ]
  },
  {
   "cell_type": "markdown",
   "metadata": {},
   "source": [
    "The above shows the phase portraits and the RNA expression (cellranger) of three example driver genes."
   ]
  },
  {
   "cell_type": "code",
   "execution_count": null,
   "metadata": {},
   "outputs": [],
   "source": [
    "driver_genes = adata.var.dropna(subset = ['fit_likelihood'])['fit_likelihood'].sort_values(ascending=False)"
   ]
  },
  {
   "cell_type": "markdown",
   "metadata": {},
   "source": [
    "The excel file `scVelo_driver_genes_complete_dataset.xlsx` contains all driver genes with a fit_likelihood > 0."
   ]
  },
  {
   "cell_type": "code",
   "execution_count": null,
   "metadata": {},
   "outputs": [],
   "source": [
    "driver_genes.to_excel(\"./output/3-5.RNA_velocity_scVelo_python/scVelo_driver_genes_complete_dataset.xlsx\")"
   ]
  },
  {
   "cell_type": "code",
   "execution_count": null,
   "metadata": {},
   "outputs": [],
   "source": [
    "#driver_genes"
   ]
  },
  {
   "cell_type": "code",
   "execution_count": null,
   "metadata": {},
   "outputs": [],
   "source": [
    "#pl.hist(driver_genes, yscale='log', bins=50)"
   ]
  },
  {
   "cell_type": "code",
   "execution_count": null,
   "metadata": {},
   "outputs": [],
   "source": [
    "# Based on the hisotgram it may be sensible to select top likelihood genes as those with a fit_likelihood > 0.3\n",
    "#driver_genes[driver_genes > 0.3]"
   ]
  },
  {
   "cell_type": "markdown",
   "metadata": {},
   "source": [
    "The excel file `scVelo_driver_genes_complete_dataset_likelihood0.3.xlsx` contains the driver (top-likelihood genes) with a minimum likelihood > 0.3."
   ]
  },
  {
   "cell_type": "code",
   "execution_count": null,
   "metadata": {},
   "outputs": [],
   "source": [
    "driver_genes[driver_genes > 0.3].to_excel(\"./output/3-5.RNA_velocity_scVelo_python/scVelo_driver_genes_complete_dataset_likelihood0.3.xlsx\")"
   ]
  },
  {
   "cell_type": "markdown",
   "metadata": {},
   "source": [
    "# Cluster-specific top-likelihood genes\n",
    "\n",
    "Partial gene likelihoods can be computed for each cluster of cells to enable cluster-specific identification of potential drivers"
   ]
  },
  {
   "cell_type": "code",
   "execution_count": null,
   "metadata": {},
   "outputs": [],
   "source": [
    "scv.tl.rank_dynamical_genes(adata, groupby='cell_states_0_4')\n",
    "df_cluster_driver = scv.get_df(adata, 'rank_dynamical_genes/names')\n",
    "df_cluster_driver.head(5)"
   ]
  },
  {
   "cell_type": "markdown",
   "metadata": {},
   "source": [
    "The full table of the top 100 driver genes per cluster can be found in the excel file `scVelo_driver_genes_for_each_cluster_top100.xlsx`"
   ]
  },
  {
   "cell_type": "code",
   "execution_count": null,
   "metadata": {},
   "outputs": [],
   "source": [
    "df_cluster_driver.to_excel(\"./output/3-5.RNA_velocity_scVelo_python/scVelo_driver_genes_for_each_cluster_top100.xlsx\")"
   ]
  },
  {
   "cell_type": "code",
   "execution_count": null,
   "metadata": {},
   "outputs": [],
   "source": [
    "dyn_genes_result = adata.uns['rank_dynamical_genes']\n",
    "groups = dyn_genes_result['names'].dtype.names\n",
    "pd.DataFrame(\n",
    "    {group + '_' + key: dyn_genes_result[key][group]\n",
    "    for group in groups for key in ['names', 'scores']}).head(5)"
   ]
  },
  {
   "cell_type": "markdown",
   "metadata": {},
   "source": [
    "For each of the cluster-specific driver genes we filtered the genes for those with a score above 0.3 and write the genes for each cluster to an excel file."
   ]
  },
  {
   "cell_type": "code",
   "execution_count": null,
   "metadata": {},
   "outputs": [],
   "source": [
    "for group in groups:\n",
    "    group_driver = pd.DataFrame({key: dyn_genes_result[key][group]\n",
    "                                 for key in ['names', 'scores']})\n",
    "    group_driver_f = group_driver[group_driver.scores > 0.3]\n",
    "    group_driver_f.to_excel(\"./output/3-5.RNA_velocity_scVelo_python/scVelo_driver_genes_for_\" + \n",
    "                                                     group.replace(\" \", \"_\").replace(\"/\", \"\") + \n",
    "                                                     \"_score_0.3.xlsx\")\n",
    "    #print(group_driver_f)"
   ]
  },
  {
   "cell_type": "markdown",
   "metadata": {},
   "source": [
    "Note that some cluster-specific driver genes are shared between clusters, e.g. DAAM1 is annotated to be the top driver gene for NPCs1, RM NPCs, mDA2, mDA3 and mDA4 and is among the top 5 for FB/mDA , NPCs2, mDA5 and mDA6."
   ]
  },
  {
   "cell_type": "code",
   "execution_count": null,
   "metadata": {},
   "outputs": [],
   "source": [
    "for cell_state in adata.obs.cell_states_0_4.cat.categories:\n",
    "    vars=df_cluster_driver[cell_state][:3]\n",
    "    vars=vars.tolist()\n",
    "    scv.pl.scatter(adata, vars, ylabel=cell_state, color=[\"cell_states_0_4\"], frameon=False)\n",
    "    scv.pl.scatter(adata, x='latent_time', y=vars, frameon=True, color=\"cell_states_0_4\", layer=\"RNA\")\n",
    "   "
   ]
  },
  {
   "cell_type": "markdown",
   "metadata": {},
   "source": [
    "# PAGA velocity graph"
   ]
  },
  {
   "cell_type": "markdown",
   "metadata": {},
   "source": [
    "[PAGA](https://genomebiology.biomedcentral.com/articles/10.1186/s13059-019-1663-x) graph abstraction has benchmarked as top-performing method for trajectory inference. It provides a graph-like map of the data topology with weighted edges corresponding to the connectivity between two clusters. Here, PAGA is extended by velocity-inferred directionality."
   ]
  },
  {
   "cell_type": "code",
   "execution_count": null,
   "metadata": {},
   "outputs": [],
   "source": [
    "scv.tl.paga(adata, groups='cell_states_0_4')"
   ]
  },
  {
   "cell_type": "code",
   "execution_count": null,
   "metadata": {},
   "outputs": [],
   "source": [
    "df = scv.get_df(adata, 'paga/transitions_confidence', precision=2, columns='cell_states_0_4', index = 'cell_states_0_4').T\n",
    "df.style.background_gradient(cmap='Blues').format('{:.2g}')"
   ]
  },
  {
   "cell_type": "markdown",
   "metadata": {},
   "source": [
    "This reads from left/row to right/column, thus e.g. assigning a confident transition from NPCs4 into mDA2.\n",
    "\n",
    "The above table can be visualised using a directed graph superimposed on the UMAP embedding."
   ]
  },
  {
   "cell_type": "code",
   "execution_count": null,
   "metadata": {},
   "outputs": [],
   "source": [
    "scv.pl.paga(adata, basis='umap', size=50, alpha=.1,\n",
    "            min_edge_width=2, node_size_scale=1.5)"
   ]
  },
  {
   "cell_type": "markdown",
   "metadata": {},
   "source": [
    "mDA2 neurons can be formed from several less differentiated cell types, e.g. a range of progenitor cell states including NPCs4, NPCs5, NPCs1 and NPCs2 but also from mDA3 and mDA4 cell states.\n",
    "\n",
    "NPCs3 seem to transition into mDA5 and mDA6 cell states while mDA8 and  mDA7 cell states seem to primarily stem from mDA3 cells state via mDA1 cell states."
   ]
  },
  {
   "cell_type": "code",
   "execution_count": null,
   "metadata": {},
   "outputs": [],
   "source": [
    "scv.pl.paga(adata, basis='pca', size=50, alpha=.1,\n",
    "            min_edge_width=2, node_size_scale=1.5)"
   ]
  },
  {
   "cell_type": "markdown",
   "metadata": {},
   "source": [
    "# Differential Kinetics\n",
    "\n",
    "Systems with multiple lineages and processes have genes that likely show different kinetic regimes across subpopulations. Distinct cell states and lineages are typically governed by different variations in the gene regulatory networks and may hence exhibit different splicing kinetics. This gives rise to genes that display multiple trajectories in phase space.\n",
    "\n",
    "The dynamical model can be used to perform a likelihood-ratio test for differential kinetics. This allows the detection of clusters that display kinetic behaviour that connot be well explained by a single model of the overall dynamics. Clustering cell types into their different kinetic regimes than allows fitting each regime separately."
   ]
  },
  {
   "cell_type": "markdown",
   "metadata": {},
   "source": [
    "## Differential Kinetic test\n",
    "\n",
    "Distinct cell types and lineages may exhibit different kinetic regimes that are governed by a different network structure. Even in related cell types or lineages, kinetics may be differential due to alternative splicing, alternative polyadenylation and modulations in RNA degradation.\n",
    "\n",
    "Each cell type is tested whether an independent fit yields a significantly improved likelihood.\n",
    "The likelihood ratio, following an asymptotic chi-squared distribution can be tested for significance. For efficiency reasons, the default uses and orthogonal regression instead of a full phase trajectory to test whether a cluster is well explained by th overall kinetics or exhibits a different kinetic."
   ]
  },
  {
   "cell_type": "code",
   "execution_count": null,
   "metadata": {},
   "outputs": [],
   "source": [
    "scv.tl.differential_kinetic_test(adata, groupby='cell_states_0_4')\n"
   ]
  },
  {
   "cell_type": "code",
   "execution_count": null,
   "metadata": {},
   "outputs": [],
   "source": [
    "scv.get_df(adata[:, var_names], ['fit_diff_kinetics', 'fit_pval_kinetics'], precision=2)"
   ]
  },
  {
   "cell_type": "markdown",
   "metadata": {},
   "source": [
    "In this case only two genes shows a differential splicing kinetics in one cluster."
   ]
  },
  {
   "cell_type": "code",
   "execution_count": null,
   "metadata": {},
   "outputs": [],
   "source": [
    "var_names=[\"GAP43\", \"QKI\"]\n",
    "kwargs = dict(linewidth=2, add_linfit=True, frameon=False)\n",
    "scv.pl.scatter(adata, basis=var_names, add_outline='fit_diff_kinetics', **kwargs)"
   ]
  },
  {
   "cell_type": "markdown",
   "metadata": {},
   "source": [
    "## Recompute Velocities"
   ]
  },
  {
   "cell_type": "markdown",
   "metadata": {},
   "source": [
    "Based on the computed differential kinetics we can recompute the estmated RNA velocities."
   ]
  },
  {
   "cell_type": "code",
   "execution_count": null,
   "metadata": {},
   "outputs": [],
   "source": [
    "scv.tl.velocity(adata, diff_kinetics=True, mode=\"dynamical\")\n",
    "scv.tl.velocity_graph(adata)"
   ]
  },
  {
   "cell_type": "code",
   "execution_count": null,
   "metadata": {},
   "outputs": [],
   "source": [
    "scv.pl.velocity_embedding_stream(adata, basis=\"umap\", color=\"cell_states_0_4\", palette=cell_states_color_map,\n",
    "                                 legend_loc='right margin', \n",
    "                                 save=\"6-5.RNA_velocity_scVelo_python/dynamical_integrated_umap_stream_differential_kinetics.png\",\n",
    "                                title=\"Velocity estimates assuming differential kinetics\")"
   ]
  },
  {
   "cell_type": "code",
   "execution_count": null,
   "metadata": {},
   "outputs": [],
   "source": [
    "scv.pl.velocity_embedding_stream(adata, basis=\"pca\", color=\"cell_states_0_4\", \n",
    "                                 legend_loc='right margin', palette=cell_states_color_map,\n",
    "                                 save=\"6-5.RNA_velocity_scVelo_python/dynamical_48h_120h_FGF2_pca_stream_differential_kinetics.png\")"
   ]
  },
  {
   "cell_type": "markdown",
   "metadata": {},
   "source": [
    "In this case, assuming differential splicing kinetics between clusters does not change the overall velocity streams and predicted developmental trajectories."
   ]
  }
 ],
 "metadata": {
  "kernelspec": {
   "display_name": "Python 3",
   "language": "python",
   "name": "python3"
  },
  "language_info": {
   "codemirror_mode": {
    "name": "ipython",
    "version": 3
   },
   "file_extension": ".py",
   "mimetype": "text/x-python",
   "name": "python",
   "nbconvert_exporter": "python",
   "pygments_lexer": "ipython3",
   "version": "3.8.8"
  }
 },
 "nbformat": 4,
 "nbformat_minor": 4
}
